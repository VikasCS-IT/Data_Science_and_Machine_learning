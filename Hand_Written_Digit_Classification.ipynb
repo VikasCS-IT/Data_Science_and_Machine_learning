{
  "nbformat": 4,
  "nbformat_minor": 0,
  "metadata": {
    "colab": {
      "provenance": []
    },
    "kernelspec": {
      "name": "python3",
      "display_name": "Python 3"
    },
    "language_info": {
      "name": "python"
    }
  },
  "cells": [
    {
      "cell_type": "markdown",
      "source": [
        "#**Hand Written Digit Prediction - Classification Analysis**"
      ],
      "metadata": {
        "id": "h4EIXksFNTfw"
      }
    },
    {
      "cell_type": "markdown",
      "source": [
        "The digits dataset consists of 8x8 pixel images of digits. The images attribute of the dataset stores 8x8 arrays of grayscale values for each image. We will use these arrays to visualize the first 4 images. The target attribute of the dataset stores the digit each image represents."
      ],
      "metadata": {
        "id": "UZx9pr4HNttm"
      }
    },
    {
      "cell_type": "markdown",
      "source": [
        "##**Import Library**"
      ],
      "metadata": {
        "id": "5mT-akLfOSoe"
      }
    },
    {
      "cell_type": "code",
      "execution_count": 2,
      "metadata": {
        "id": "4wwDuv49M8dy"
      },
      "outputs": [],
      "source": [
        "import pandas as pd"
      ]
    },
    {
      "cell_type": "code",
      "source": [
        "import numpy as np"
      ],
      "metadata": {
        "id": "QGYuVdgkOfm4"
      },
      "execution_count": 3,
      "outputs": []
    },
    {
      "cell_type": "code",
      "source": [
        "import matplotlib.pyplot as plt"
      ],
      "metadata": {
        "id": "eeQBHFm3Oipb"
      },
      "execution_count": 4,
      "outputs": []
    },
    {
      "cell_type": "markdown",
      "source": [
        "##**Import Data**"
      ],
      "metadata": {
        "id": "TNWfvzehOp7G"
      }
    },
    {
      "cell_type": "code",
      "source": [
        "from sklearn.datasets import load_digits"
      ],
      "metadata": {
        "id": "etsDYI8ROoAa"
      },
      "execution_count": 5,
      "outputs": []
    },
    {
      "cell_type": "code",
      "source": [
        "df = load_digits()"
      ],
      "metadata": {
        "id": "Uk1E4psfPJaN"
      },
      "execution_count": 6,
      "outputs": []
    },
    {
      "cell_type": "code",
      "source": [
        "_, axes = plt.subplots(nrows = 1,ncols = 4, figsize = (10,3))\n",
        "for ax, image, label in zip(axes, df.images, df.target):\n",
        "  ax.set_axis_off()\n",
        "  ax.imshow(image, cmap=plt.cm.gray_r, interpolation=\"nearest\")\n",
        "  ax.set_title(\"Training : %i\" % label)"
      ],
      "metadata": {
        "colab": {
          "base_uri": "https://localhost:8080/",
          "height": 227
        },
        "id": "ERpCJ2rcPQBZ",
        "outputId": "4ddeae92-09cb-470f-b076-9eccd0893885"
      },
      "execution_count": 7,
      "outputs": [
        {
          "output_type": "display_data",
          "data": {
            "text/plain": [
              "<Figure size 1000x300 with 4 Axes>"
            ],
            "image/png": "[encoded data removed]"
          },
          "metadata": {}
        }
      ]
    },
    {
      "cell_type": "markdown",
      "source": [
        "##**Data Preprocessing**"
      ],
      "metadata": {
        "id": "wjl8PwApQK43"
      }
    },
    {
      "cell_type": "markdown",
      "source": [
        "Flatten Image\n",
        "\n",
        "![image.png](data:image/png;base64,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)"
      ],
      "metadata": {
        "id": "mCUQ_Bl-QRe0"
      }
    },
    {
      "cell_type": "code",
      "source": [
        "df.images.shape"
      ],
      "metadata": {
        "colab": {
          "base_uri": "https://localhost:8080/"
        },
        "id": "alXpV2RvP6n_",
        "outputId": "ac29fda1-6e8e-4d3c-c54c-2b3b51433bd3"
      },
      "execution_count": 36,
      "outputs": [
        {
          "output_type": "execute_result",
          "data": {
            "text/plain": [
              "(1797, 8, 8)"
            ]
          },
          "metadata": {},
          "execution_count": 36
        }
      ]
    },
    {
      "cell_type": "code",
      "source": [
        "df.images[0]"
      ],
      "metadata": {
        "colab": {
          "base_uri": "https://localhost:8080/"
        },
        "id": "1vG_1vDFQuLi",
        "outputId": "626147d9-2ac5-4c0d-b818-f6f8f451fa15"
      },
      "execution_count": 9,
      "outputs": [
        {
          "output_type": "execute_result",
          "data": {
            "text/plain": [
              "array([[ 0.,  0.,  5., 13.,  9.,  1.,  0.,  0.],\n",
              "       [ 0.,  0., 13., 15., 10., 15.,  5.,  0.],\n",
              "       [ 0.,  3., 15.,  2.,  0., 11.,  8.,  0.],\n",
              "       [ 0.,  4., 12.,  0.,  0.,  8.,  8.,  0.],\n",
              "       [ 0.,  5.,  8.,  0.,  0.,  9.,  8.,  0.],\n",
              "       [ 0.,  4., 11.,  0.,  1., 12.,  7.,  0.],\n",
              "       [ 0.,  2., 14.,  5., 10., 12.,  0.,  0.],\n",
              "       [ 0.,  0.,  6., 13., 10.,  0.,  0.,  0.]])"
            ]
          },
          "metadata": {},
          "execution_count": 9
        }
      ]
    },
    {
      "cell_type": "code",
      "source": [
        "df.images[0].shape"
      ],
      "metadata": {
        "colab": {
          "base_uri": "https://localhost:8080/"
        },
        "id": "zZjf5eQ0QxPc",
        "outputId": "75899246-cd89-4708-9498-46efa8a906bb"
      },
      "execution_count": 10,
      "outputs": [
        {
          "output_type": "execute_result",
          "data": {
            "text/plain": [
              "(8, 8)"
            ]
          },
          "metadata": {},
          "execution_count": 10
        }
      ]
    },
    {
      "cell_type": "code",
      "source": [
        "len(df.images)"
      ],
      "metadata": {
        "colab": {
          "base_uri": "https://localhost:8080/"
        },
        "id": "FA05iQC1Q-Ct",
        "outputId": "978e3f31-5479-4dac-f00d-6c3775f5ab6a"
      },
      "execution_count": 11,
      "outputs": [
        {
          "output_type": "execute_result",
          "data": {
            "text/plain": [
              "1797"
            ]
          },
          "metadata": {},
          "execution_count": 11
        }
      ]
    },
    {
      "cell_type": "code",
      "source": [
        "n_samples = len(df.images)\n",
        "data = df.images.reshape((n_samples, -1))"
      ],
      "metadata": {
        "id": "IzHvy_vYQ_78"
      },
      "execution_count": 12,
      "outputs": []
    },
    {
      "cell_type": "code",
      "source": [
        "data[0]"
      ],
      "metadata": {
        "colab": {
          "base_uri": "https://localhost:8080/"
        },
        "id": "BbtqPTKdRLK6",
        "outputId": "09c0f7be-d8e5-46e3-e387-682db83fa79b"
      },
      "execution_count": 13,
      "outputs": [
        {
          "output_type": "execute_result",
          "data": {
            "text/plain": [
              "array([ 0.,  0.,  5., 13.,  9.,  1.,  0.,  0.,  0.,  0., 13., 15., 10.,\n",
              "       15.,  5.,  0.,  0.,  3., 15.,  2.,  0., 11.,  8.,  0.,  0.,  4.,\n",
              "       12.,  0.,  0.,  8.,  8.,  0.,  0.,  5.,  8.,  0.,  0.,  9.,  8.,\n",
              "        0.,  0.,  4., 11.,  0.,  1., 12.,  7.,  0.,  0.,  2., 14.,  5.,\n",
              "       10., 12.,  0.,  0.,  0.,  0.,  6., 13., 10.,  0.,  0.,  0.])"
            ]
          },
          "metadata": {},
          "execution_count": 13
        }
      ]
    },
    {
      "cell_type": "code",
      "source": [
        "data[0].shape"
      ],
      "metadata": {
        "colab": {
          "base_uri": "https://localhost:8080/"
        },
        "id": "f2pNSVBTROj_",
        "outputId": "9b739a56-6250-4e98-8afa-825de7e36000"
      },
      "execution_count": 14,
      "outputs": [
        {
          "output_type": "execute_result",
          "data": {
            "text/plain": [
              "(64,)"
            ]
          },
          "metadata": {},
          "execution_count": 14
        }
      ]
    },
    {
      "cell_type": "code",
      "source": [
        "data.shape"
      ],
      "metadata": {
        "colab": {
          "base_uri": "https://localhost:8080/"
        },
        "id": "Op5T4bOURVax",
        "outputId": "b4578244-dd5b-4f1c-a51b-5b76328bb1d7"
      },
      "execution_count": 15,
      "outputs": [
        {
          "output_type": "execute_result",
          "data": {
            "text/plain": [
              "(1797, 64)"
            ]
          },
          "metadata": {},
          "execution_count": 15
        }
      ]
    },
    {
      "cell_type": "markdown",
      "source": [
        "##**Scaling Image Data**"
      ],
      "metadata": {
        "id": "sgW8BDWZRb_N"
      }
    },
    {
      "cell_type": "code",
      "source": [
        "data.min()"
      ],
      "metadata": {
        "colab": {
          "base_uri": "https://localhost:8080/"
        },
        "id": "frdCswG0RYj8",
        "outputId": "3f0235e3-70d4-42f4-f841-d2df1a5d02fb"
      },
      "execution_count": 16,
      "outputs": [
        {
          "output_type": "execute_result",
          "data": {
            "text/plain": [
              "0.0"
            ]
          },
          "metadata": {},
          "execution_count": 16
        }
      ]
    },
    {
      "cell_type": "code",
      "source": [
        "data.max()"
      ],
      "metadata": {
        "colab": {
          "base_uri": "https://localhost:8080/"
        },
        "id": "a__B_Gt9RinO",
        "outputId": "69aef724-dc90-4b44-b6bf-dfb160e35789"
      },
      "execution_count": 17,
      "outputs": [
        {
          "output_type": "execute_result",
          "data": {
            "text/plain": [
              "16.0"
            ]
          },
          "metadata": {},
          "execution_count": 17
        }
      ]
    },
    {
      "cell_type": "code",
      "source": [
        "data = data/16"
      ],
      "metadata": {
        "id": "Qv9sN9xWRj2Y"
      },
      "execution_count": 18,
      "outputs": []
    },
    {
      "cell_type": "code",
      "source": [
        "data.min()"
      ],
      "metadata": {
        "colab": {
          "base_uri": "https://localhost:8080/"
        },
        "id": "y7FyBXI1Rl-c",
        "outputId": "82edd6d3-3261-4aed-a724-34c0fe65c903"
      },
      "execution_count": 19,
      "outputs": [
        {
          "output_type": "execute_result",
          "data": {
            "text/plain": [
              "0.0"
            ]
          },
          "metadata": {},
          "execution_count": 19
        }
      ]
    },
    {
      "cell_type": "code",
      "source": [
        "data.max()"
      ],
      "metadata": {
        "colab": {
          "base_uri": "https://localhost:8080/"
        },
        "id": "g_8mV5_PRnkQ",
        "outputId": "5feecd96-9367-4d76-eefb-21f5cfeb3ea5"
      },
      "execution_count": 20,
      "outputs": [
        {
          "output_type": "execute_result",
          "data": {
            "text/plain": [
              "1.0"
            ]
          },
          "metadata": {},
          "execution_count": 20
        }
      ]
    },
    {
      "cell_type": "code",
      "source": [
        "data[0]"
      ],
      "metadata": {
        "colab": {
          "base_uri": "https://localhost:8080/"
        },
        "id": "DfdKnW_CRoxb",
        "outputId": "aff9a8d5-6db6-45d3-8bd7-5496f46092a0"
      },
      "execution_count": 21,
      "outputs": [
        {
          "output_type": "execute_result",
          "data": {
            "text/plain": [
              "array([0.    , 0.    , 0.3125, 0.8125, 0.5625, 0.0625, 0.    , 0.    ,\n",
              "       0.    , 0.    , 0.8125, 0.9375, 0.625 , 0.9375, 0.3125, 0.    ,\n",
              "       0.    , 0.1875, 0.9375, 0.125 , 0.    , 0.6875, 0.5   , 0.    ,\n",
              "       0.    , 0.25  , 0.75  , 0.    , 0.    , 0.5   , 0.5   , 0.    ,\n",
              "       0.    , 0.3125, 0.5   , 0.    , 0.    , 0.5625, 0.5   , 0.    ,\n",
              "       0.    , 0.25  , 0.6875, 0.    , 0.0625, 0.75  , 0.4375, 0.    ,\n",
              "       0.    , 0.125 , 0.875 , 0.3125, 0.625 , 0.75  , 0.    , 0.    ,\n",
              "       0.    , 0.    , 0.375 , 0.8125, 0.625 , 0.    , 0.    , 0.    ])"
            ]
          },
          "metadata": {},
          "execution_count": 21
        }
      ]
    },
    {
      "cell_type": "markdown",
      "source": [
        "##**Train Test Split Data**"
      ],
      "metadata": {
        "id": "6cSYHGYuRty8"
      }
    },
    {
      "cell_type": "code",
      "source": [
        "from sklearn.model_selection import train_test_split"
      ],
      "metadata": {
        "id": "iuyFKtRVRq3-"
      },
      "execution_count": 22,
      "outputs": []
    },
    {
      "cell_type": "code",
      "source": [
        "x_train,x_test,y_train,y_test = train_test_split(data, df.target, test_size = 0.3)"
      ],
      "metadata": {
        "id": "tH1U1-dOR6QD"
      },
      "execution_count": 23,
      "outputs": []
    },
    {
      "cell_type": "code",
      "source": [
        "x_train.shape,x_test.shape,y_train.shape,y_test.shape"
      ],
      "metadata": {
        "colab": {
          "base_uri": "https://localhost:8080/"
        },
        "id": "OuNs5nWlSEDV",
        "outputId": "d7c528ec-2eb3-4666-e5e9-3314675b7128"
      },
      "execution_count": 24,
      "outputs": [
        {
          "output_type": "execute_result",
          "data": {
            "text/plain": [
              "((1257, 64), (540, 64), (1257,), (540,))"
            ]
          },
          "metadata": {},
          "execution_count": 24
        }
      ]
    },
    {
      "cell_type": "markdown",
      "source": [
        "##**Random Forest Model**"
      ],
      "metadata": {
        "id": "23T28Q4fSP2X"
      }
    },
    {
      "cell_type": "code",
      "source": [
        "from sklearn.ensemble import RandomForestClassifier"
      ],
      "metadata": {
        "id": "pjP6ionPSK3o"
      },
      "execution_count": 28,
      "outputs": []
    },
    {
      "cell_type": "code",
      "source": [
        "rf = RandomForestClassifier()"
      ],
      "metadata": {
        "id": "BJED-TqJScDf"
      },
      "execution_count": 29,
      "outputs": []
    },
    {
      "cell_type": "code",
      "source": [
        "rf.fit(x_train,y_train)"
      ],
      "metadata": {
        "colab": {
          "base_uri": "https://localhost:8080/",
          "height": 74
        },
        "id": "yNzWl5dhSfdx",
        "outputId": "64417523-4db6-4e64-a389-aa24e92b1b6a"
      },
      "execution_count": 30,
      "outputs": [
        {
          "output_type": "execute_result",
          "data": {
            "text/plain": [
              "RandomForestClassifier()"
            ],
            "text/html": [
              "<style>#sk-container-id-1 {color: black;background-color: white;}#sk-container-id-1 pre{padding: 0;}#sk-container-id-1 div.sk-toggleable {background-color: white;}#sk-container-id-1 label.sk-toggleable__label {cursor: pointer;display: block;width: 100%;margin-bottom: 0;padding: 0.3em;box-sizing: border-box;text-align: center;}#sk-container-id-1 label.sk-toggleable__label-arrow:before {content: \"▸\";float: left;margin-right: 0.25em;color: #696969;}#sk-container-id-1 label.sk-toggleable__label-arrow:hover:before {color: black;}#sk-container-id-1 div.sk-estimator:hover label.sk-toggleable__label-arrow:before {color: black;}#sk-container-id-1 div.sk-toggleable__content {max-height: 0;max-width: 0;overflow: hidden;text-align: left;background-color: #f0f8ff;}#sk-container-id-1 div.sk-toggleable__content pre {margin: 0.2em;color: black;border-radius: 0.25em;background-color: #f0f8ff;}#sk-container-id-1 input.sk-toggleable__control:checked~div.sk-toggleable__content {max-height: 200px;max-width: 100%;overflow: auto;}#sk-container-id-1 input.sk-toggleable__control:checked~label.sk-toggleable__label-arrow:before {content: \"▾\";}#sk-container-id-1 div.sk-estimator input.sk-toggleable__control:checked~label.sk-toggleable__label {background-color: #d4ebff;}#sk-container-id-1 div.sk-label input.sk-toggleable__control:checked~label.sk-toggleable__label {background-color: #d4ebff;}#sk-container-id-1 input.sk-hidden--visually {border: 0;clip: rect(1px 1px 1px 1px);clip: rect(1px, 1px, 1px, 1px);height: 1px;margin: -1px;overflow: hidden;padding: 0;position: absolute;width: 1px;}#sk-container-id-1 div.sk-estimator {font-family: monospace;background-color: #f0f8ff;border: 1px dotted black;border-radius: 0.25em;box-sizing: border-box;margin-bottom: 0.5em;}#sk-container-id-1 div.sk-estimator:hover {background-color: #d4ebff;}#sk-container-id-1 div.sk-parallel-item::after {content: \"\";width: 100%;border-bottom: 1px solid gray;flex-grow: 1;}#sk-container-id-1 div.sk-label:hover label.sk-toggleable__label {background-color: #d4ebff;}#sk-container-id-1 div.sk-serial::before {content: \"\";position: absolute;border-left: 1px solid gray;box-sizing: border-box;top: 0;bottom: 0;left: 50%;z-index: 0;}#sk-container-id-1 div.sk-serial {display: flex;flex-direction: column;align-items: center;background-color: white;padding-right: 0.2em;padding-left: 0.2em;position: relative;}#sk-container-id-1 div.sk-item {position: relative;z-index: 1;}#sk-container-id-1 div.sk-parallel {display: flex;align-items: stretch;justify-content: center;background-color: white;position: relative;}#sk-container-id-1 div.sk-item::before, #sk-container-id-1 div.sk-parallel-item::before {content: \"\";position: absolute;border-left: 1px solid gray;box-sizing: border-box;top: 0;bottom: 0;left: 50%;z-index: -1;}#sk-container-id-1 div.sk-parallel-item {display: flex;flex-direction: column;z-index: 1;position: relative;background-color: white;}#sk-container-id-1 div.sk-parallel-item:first-child::after {align-self: flex-end;width: 50%;}#sk-container-id-1 div.sk-parallel-item:last-child::after {align-self: flex-start;width: 50%;}#sk-container-id-1 div.sk-parallel-item:only-child::after {width: 0;}#sk-container-id-1 div.sk-dashed-wrapped {border: 1px dashed gray;margin: 0 0.4em 0.5em 0.4em;box-sizing: border-box;padding-bottom: 0.4em;background-color: white;}#sk-container-id-1 div.sk-label label {font-family: monospace;font-weight: bold;display: inline-block;line-height: 1.2em;}#sk-container-id-1 div.sk-label-container {text-align: center;}#sk-container-id-1 div.sk-container {/* jupyter's `normalize.less` sets `[hidden] { display: none; }` but bootstrap.min.css set `[hidden] { display: none !important; }` so we also need the `!important` here to be able to override the default hidden behavior on the sphinx rendered scikit-learn.org. See: https://github.com/scikit-learn/scikit-learn/issues/21755 */display: inline-block !important;position: relative;}#sk-container-id-1 div.sk-text-repr-fallback {display: none;}</style><div id=\"sk-container-id-1\" class=\"sk-top-container\"><div class=\"sk-text-repr-fallback\"><pre>RandomForestClassifier()</pre><b>In a Jupyter environment, please rerun this cell to show the HTML representation or trust the notebook. <br />On GitHub, the HTML representation is unable to render, please try loading this page with nbviewer.org.</b></div><div class=\"sk-container\" hidden><div class=\"sk-item\"><div class=\"sk-estimator sk-toggleable\"><input class=\"sk-toggleable__control sk-hidden--visually\" id=\"sk-estimator-id-1\" type=\"checkbox\" checked><label for=\"sk-estimator-id-1\" class=\"sk-toggleable__label sk-toggleable__label-arrow\">RandomForestClassifier</label><div class=\"sk-toggleable__content\"><pre>RandomForestClassifier()</pre></div></div></div></div></div>"
            ]
          },
          "metadata": {},
          "execution_count": 30
        }
      ]
    },
    {
      "cell_type": "markdown",
      "source": [
        "##**Predict Test Data**"
      ],
      "metadata": {
        "id": "sFZu7eBgSo3z"
      }
    },
    {
      "cell_type": "code",
      "source": [
        "y_pred = rf.predict(x_test)"
      ],
      "metadata": {
        "id": "oTrqKZNbSkLf"
      },
      "execution_count": 31,
      "outputs": []
    },
    {
      "cell_type": "code",
      "source": [
        "y_pred"
      ],
      "metadata": {
        "colab": {
          "base_uri": "https://localhost:8080/"
        },
        "id": "JVidVrXuSxe3",
        "outputId": "917a998c-5d48-418c-99cd-b9666b9587ca"
      },
      "execution_count": 32,
      "outputs": [
        {
          "output_type": "execute_result",
          "data": {
            "text/plain": [
              "array([2, 7, 7, 1, 8, 9, 3, 5, 6, 3, 6, 4, 2, 1, 9, 3, 0, 5, 9, 7, 1, 6,\n",
              "       1, 7, 2, 8, 9, 1, 4, 9, 1, 9, 9, 9, 0, 2, 5, 6, 2, 1, 5, 6, 7, 8,\n",
              "       7, 5, 5, 8, 5, 5, 5, 2, 1, 5, 4, 3, 6, 3, 0, 8, 5, 2, 3, 1, 3, 1,\n",
              "       9, 1, 6, 1, 5, 5, 6, 2, 6, 3, 7, 1, 2, 6, 0, 6, 6, 2, 2, 0, 6, 1,\n",
              "       2, 2, 4, 6, 7, 5, 3, 3, 5, 4, 2, 5, 0, 9, 9, 9, 5, 1, 8, 4, 8, 7,\n",
              "       6, 0, 5, 7, 4, 0, 6, 6, 1, 0, 2, 8, 4, 7, 1, 8, 5, 8, 6, 8, 1, 8,\n",
              "       9, 6, 7, 5, 6, 7, 3, 5, 5, 6, 7, 4, 0, 5, 5, 7, 2, 6, 7, 1, 0, 5,\n",
              "       4, 0, 5, 4, 8, 5, 0, 1, 2, 3, 8, 7, 6, 7, 2, 1, 8, 8, 3, 6, 1, 9,\n",
              "       6, 9, 6, 9, 4, 2, 2, 0, 6, 7, 2, 4, 5, 0, 7, 6, 9, 8, 7, 2, 4, 0,\n",
              "       4, 1, 4, 9, 1, 8, 3, 2, 1, 4, 9, 2, 8, 2, 0, 5, 4, 1, 1, 7, 3, 8,\n",
              "       9, 1, 9, 2, 0, 7, 2, 8, 2, 4, 9, 1, 2, 3, 3, 3, 6, 5, 9, 1, 9, 6,\n",
              "       4, 6, 2, 3, 9, 7, 7, 1, 4, 7, 1, 7, 1, 4, 7, 7, 2, 6, 3, 8, 6, 4,\n",
              "       3, 3, 4, 1, 6, 7, 4, 0, 7, 9, 6, 5, 1, 1, 3, 9, 4, 1, 4, 8, 3, 3,\n",
              "       3, 6, 2, 9, 3, 9, 0, 2, 3, 2, 1, 4, 1, 5, 7, 3, 0, 5, 5, 3, 8, 8,\n",
              "       8, 6, 1, 0, 1, 7, 8, 5, 2, 0, 0, 3, 3, 7, 2, 4, 2, 4, 2, 5, 9, 2,\n",
              "       5, 9, 8, 3, 7, 6, 3, 4, 3, 5, 5, 9, 2, 7, 9, 6, 9, 0, 9, 4, 3, 7,\n",
              "       7, 9, 6, 9, 0, 8, 6, 0, 3, 5, 9, 8, 9, 4, 6, 1, 2, 3, 2, 8, 3, 8,\n",
              "       6, 0, 6, 9, 2, 1, 0, 2, 6, 9, 5, 8, 9, 0, 7, 7, 3, 8, 9, 4, 8, 1,\n",
              "       0, 2, 9, 0, 2, 9, 4, 3, 9, 1, 0, 4, 0, 2, 7, 6, 8, 1, 6, 9, 1, 8,\n",
              "       3, 8, 9, 4, 5, 7, 3, 8, 9, 7, 3, 7, 2, 6, 5, 4, 7, 3, 1, 4, 0, 1,\n",
              "       4, 6, 8, 3, 4, 3, 6, 6, 1, 8, 6, 7, 5, 9, 0, 3, 4, 7, 7, 7, 2, 9,\n",
              "       7, 8, 1, 8, 6, 2, 5, 9, 6, 2, 3, 6, 8, 9, 0, 6, 3, 7, 4, 3, 3, 0,\n",
              "       3, 8, 3, 2, 5, 8, 4, 3, 2, 1, 3, 1, 2, 3, 3, 9, 4, 7, 0, 3, 8, 8,\n",
              "       7, 3, 8, 3, 2, 4, 6, 5, 8, 3, 0, 1, 3, 9, 3, 6, 0, 8, 1, 6, 6, 5,\n",
              "       6, 6, 5, 1, 7, 7, 7, 2, 3, 8, 4, 9])"
            ]
          },
          "metadata": {},
          "execution_count": 32
        }
      ]
    },
    {
      "cell_type": "markdown",
      "source": [
        "##**Model Accuracy**"
      ],
      "metadata": {
        "id": "KBqGG5Z6S9my"
      }
    },
    {
      "cell_type": "code",
      "source": [
        "from sklearn.metrics import confusion_matrix, classification_report"
      ],
      "metadata": {
        "id": "l1aeSPWBSyeO"
      },
      "execution_count": 33,
      "outputs": []
    },
    {
      "cell_type": "code",
      "source": [
        "confusion_matrix(y_test,y_pred)"
      ],
      "metadata": {
        "colab": {
          "base_uri": "https://localhost:8080/"
        },
        "id": "QSTn9EsjTIKg",
        "outputId": "21d9335a-3df6-43fc-d4a5-0c72c9954b5f"
      },
      "execution_count": 34,
      "outputs": [
        {
          "output_type": "execute_result",
          "data": {
            "text/plain": [
              "array([[39,  0,  0,  0,  0,  0,  0,  0,  0,  0],\n",
              "       [ 0, 54,  0,  0,  0,  0,  0,  0,  0,  0],\n",
              "       [ 1,  0, 54,  0,  0,  0,  0,  0,  0,  0],\n",
              "       [ 0,  1,  0, 60,  0,  0,  0,  3,  0,  0],\n",
              "       [ 0,  0,  0,  0, 46,  0,  0,  1,  0,  0],\n",
              "       [ 0,  0,  0,  1,  1, 48,  0,  0,  1,  0],\n",
              "       [ 1,  0,  0,  0,  0,  0, 62,  0,  0,  0],\n",
              "       [ 0,  0,  0,  0,  0,  0,  0, 50,  0,  0],\n",
              "       [ 0,  1,  2,  2,  0,  1,  0,  2, 49,  0],\n",
              "       [ 0,  0,  0,  2,  0,  0,  0,  0,  2, 56]])"
            ]
          },
          "metadata": {},
          "execution_count": 34
        }
      ]
    },
    {
      "cell_type": "code",
      "source": [
        "print(classification_report(y_test,y_pred))"
      ],
      "metadata": {
        "colab": {
          "base_uri": "https://localhost:8080/"
        },
        "id": "sS5knEv7TMrR",
        "outputId": "79dc0ef2-4bc2-4613-c395-a8191af5cffa"
      },
      "execution_count": 35,
      "outputs": [
        {
          "output_type": "stream",
          "name": "stdout",
          "text": [
            "              precision    recall  f1-score   support\n",
            "\n",
            "           0       0.95      1.00      0.97        39\n",
            "           1       0.96      1.00      0.98        54\n",
            "           2       0.96      0.98      0.97        55\n",
            "           3       0.92      0.94      0.93        64\n",
            "           4       0.98      0.98      0.98        47\n",
            "           5       0.98      0.94      0.96        51\n",
            "           6       1.00      0.98      0.99        63\n",
            "           7       0.89      1.00      0.94        50\n",
            "           8       0.94      0.86      0.90        57\n",
            "           9       1.00      0.93      0.97        60\n",
            "\n",
            "    accuracy                           0.96       540\n",
            "   macro avg       0.96      0.96      0.96       540\n",
            "weighted avg       0.96      0.96      0.96       540\n",
            "\n"
          ]
        }
      ]
    },
    {
      "cell_type": "code",
      "source": [],
      "metadata": {
        "id": "IoCCxYrlTSD1"
      },
      "execution_count": null,
      "outputs": []
    }
  ]
}